{
 "cells": [
  {
   "cell_type": "code",
   "execution_count": 1,
   "metadata": {},
   "outputs": [],
   "source": [
    "import numpy as np\n",
    "import gudhi\n",
    "import matplotlib\n",
    "from matplotlib import pyplot as plt"
   ]
  },
  {
   "cell_type": "code",
   "execution_count": 2,
   "metadata": {},
   "outputs": [],
   "source": [
    "s=[984,1662,1170,1476,1394,1466,1034,1082,1178,928]  "
   ]
  },
  {
   "cell_type": "code",
   "execution_count": null,
   "metadata": {},
   "outputs": [],
   "source": []
  },
  {
   "cell_type": "code",
   "execution_count": 3,
   "metadata": {},
   "outputs": [],
   "source": [
    "\n",
    "def trivialTriangle(particle_ids, force):\n",
    "# particle_ids: a list of particle ids in contact; dimension: N*2\n",
    "# force: list of contact force;dimension: N*1\n",
    "# trivial: list, n*4\n",
    "    trivialLoops = []\n",
    "    id_len = len(particle_ids)\n",
    "    for idx,item in enumerate(particle_ids):\n",
    "        id1 = item[0]\n",
    "        id2 = item[1]\n",
    "        force12 = force[idx]    \n",
    "        id1_set = set()\n",
    "        id2_set = set()   \n",
    "        for i in range(idx+1,id_len):\n",
    "            l2 = particle_ids[i]\n",
    "            if id1 in l2:\n",
    "                id3 = l2[l2!=id1]\n",
    "                id1_set.add(id3)\n",
    "                \n",
    "            if id2 in l2:\n",
    "                id3 = l2[l2!=id2]\n",
    "                id2_set.add(id3)\n",
    "        #print(id1_set)\n",
    "        \n",
    "        common_id3 = id1_set & id2_set\n",
    "        len_common = len(common_id3)\n",
    "        #print(common_id3)\n",
    "        if len_common > 0:\n",
    "            #print(len_common)\n",
    "            for id3 in common_id3:\n",
    "                #print(id3)\n",
    "                for j in range(idx+1,len(particle_ids)):\n",
    "                    if set([id1,id3]) == set(particle_ids[j]):\n",
    "                        force13 = force[j]\n",
    "                    if set([id2,id3]) == set(particle_ids[j]):\n",
    "                        force23 = force[j]\n",
    "                        \n",
    "                fmin = min(force12,force13,force23)\n",
    "                trivialLoops.append([id1,id2,id3,fmin])\n",
    "    return trivialLoops\n",
    "\n",
    "\n",
    "\n"
   ]
  },
  {
   "cell_type": "code",
   "execution_count": null,
   "metadata": {},
   "outputs": [],
   "source": []
  },
  {
   "cell_type": "code",
   "execution_count": 6,
   "metadata": {},
   "outputs": [],
   "source": [
    "\n",
    "###107,108\n",
    "\n",
    "for idx in range(1,s[4]):\n",
    "    file_name = ('../simulation_data/New_data/DATA/s13/' + 'force_contact_' + '%06d.dat' % idx)\n",
    "    data=np.loadtxt(file_name)\n",
    "    #id_1 = data[:,0]\n",
    "    #id_2 = data[:,1]\n",
    "    force = np.sqrt((data[i,4])**2+(data[i,5])**2)\n",
    "    particle_id=[]\n",
    "    cond_f=[]\n",
    "    id1=[]\n",
    "    id2=[]\n",
    "    for i in range(0,len(force)):\n",
    "        if force[i]!=0.0:\n",
    "            if (data[i,0]>0 and data[i,1]>0):\n",
    "                cond_f.append(np.sqrt((data[i,4])**2+(data[i,5])**2))\n",
    "                id1.append(data[i,0])\n",
    "                id2.append(data[i,1])\n",
    "    cond_force=np.array(cond_f)\n",
    "    id_1=np.array(id1)\n",
    "    id_2=np.array(id2)\n",
    "    for i in range(0,len(id_1)):\n",
    "        particle_id.append([id_1[i],id_2[i]])\n",
    "    pid=np.array(particle_id)\n",
    "    #print(pid)\n",
    "    particle_ids=pid.tolist()\n",
    "    #print(particle_ids)\n",
    "    contact_force=cond_force.tolist()\n",
    "    #print(contact_force)\n",
    "    # find the trivial loops\n",
    "    trivialLoops = trivialTriangle(particle_ids, contact_force)\n",
    "    #print(trivialLoops)\n",
    "    # construct simplex trees\n",
    "    contact_length = len(contact_force)\n",
    "    loops_length = len(trivialLoops)\n",
    "    \n",
    "    st = gudhi.SimplexTree()\n",
    "    for i in range(contact_length):\n",
    "        st.insert(particle_ids[i], filtration = - contact_force[i])\n",
    "            \n",
    "    for i in range(loops_length):\n",
    "        st.insert(trivialLoops[i][0:3], filtration = -trivialLoops[i][3])\n",
    "\n",
    "    st.initialize_filtration()\n",
    "    diag = st.persistence(11, 0.0, persistence_dim_max = True)\n",
    "    #B0 = st.persistence_intervals_in_dimension(0)\n",
    "    B1 = st.persistence_intervals_in_dimension(1)\n",
    "    #print(B1)\n",
    "    B1_births = [] \n",
    "    B1_deaths = [] \n",
    "    for ind, item in enumerate(B1):\n",
    "        B1_births.append(-item[0])\n",
    "        B1_deaths.append(-item[1])\n",
    "    for i, item in enumerate(B1_deaths):\n",
    "        if np.isinf(item):\n",
    "            B1_deaths[i] = 0.0\n",
    "            \n",
    "    births_np = np.array(B1_births)\n",
    "    deaths_np = np.array(B1_deaths)\n",
    "    plt.scatter(B1_births,B1_deaths)\n",
    "    plt.xlabel('Birth')\n",
    "    plt.ylabel('Death')\n",
    "    plt.title('frame'+str(idx))\n",
    "    plt.savefig('../simulation_data/B1/s13/'+ str(idx)+'.png', dpi=800)\n",
    "    plt.close()\n",
    "    plt.show()"
   ]
  },
  {
   "cell_type": "code",
   "execution_count": 9,
   "metadata": {},
   "outputs": [
    {
     "name": "stdout",
     "output_type": "stream",
     "text": [
      "94\n"
     ]
    },
    {
     "data": {
      "text/plain": [
       "[<matplotlib.lines.Line2D at 0x1d233901648>]"
      ]
     },
     "execution_count": 9,
     "metadata": {},
     "output_type": "execute_result"
    },
    {
     "data": {
      "image/png": "[encoded data removed]",
      "text/plain": [
       "<Figure size 432x288 with 1 Axes>"
      ]
     },
     "metadata": {
      "needs_background": "light"
     },
     "output_type": "display_data"
    }
   ],
   "source": []
  },
  {
   "cell_type": "code",
   "execution_count": null,
   "metadata": {},
   "outputs": [],
   "source": []
  }
 ],
 "metadata": {
  "kernelspec": {
   "display_name": "Python 3",
   "language": "python",
   "name": "python3"
  },
  "language_info": {
   "codemirror_mode": {
    "name": "ipython",
    "version": 3
   },
   "file_extension": ".py",
   "mimetype": "text/x-python",
   "name": "python",
   "nbconvert_exporter": "python",
   "pygments_lexer": "ipython3",
   "version": "3.7.4"
  }
 },
 "nbformat": 4,
 "nbformat_minor": 2
}
