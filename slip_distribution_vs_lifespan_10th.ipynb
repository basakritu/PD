{
 "cells": [
  {
   "cell_type": "code",
   "execution_count": 1,
   "metadata": {},
   "outputs": [],
   "source": [
    "import pandas as pd\n",
    "import numpy as np\n",
    "import matplotlib.pyplot as plt\n",
    "import seaborn as sns\n",
    "from scipy.stats import norm\n",
    "import sys"
   ]
  },
  {
   "cell_type": "code",
   "execution_count": 2,
   "metadata": {},
   "outputs": [],
   "source": [
    "number_of_runs = 10\n",
    "project_path = '/Users/cc/Dropbox/2D_Stik_Slip/2D_slip_distribution_analysis/'\n",
    "ref_path = 'Ref/'\n",
    "## slip diagnostic paramer ##\n",
    "velThreshold = 0.001\n",
    "avg_window = 30\n",
    "avg_window_short = 300\n",
    "\n",
    "start_frame = 0\n",
    "end_frame = 149999\n",
    "min_slip_interval = 100"
   ]
  },
  {
   "cell_type": "markdown",
   "metadata": {},
   "source": [
    "# Old method to find the begin and end time"
   ]
  },
  {
   "cell_type": "code",
   "execution_count": 22,
   "metadata": {},
   "outputs": [],
   "source": [
    "#read ref size system data\n",
    "slip_size_reference = []#initiate the slip\n",
    "for i in range(number_of_runs):\n",
    "    file_name = (\"wallinfo_%d.dat\")%(i+1)\n",
    "    fullpath = project_path + ref_path + file_name\n",
    "    df_wallinfo_reference = pd.read_csv(fullpath, skiprows=1,header = None, sep='\\s+')\n",
    "    df_wallinfo_reference.columns = [\"Frame\",\"Xperiodic\", \"YPosition\",\"XVelocity\",\"YVelocity\",\"XPosition\",\n",
    "                                     \"TopForceX\",\"TopForceY\",\"BottomForceX\", \"BottomForceY\",\"Springforce\"]\n",
    "    counter = 0\n",
    "    slip_frame_reference = []\n",
    "    last_slip_event = 0\n",
    "    for idx in range(start_frame + avg_window, end_frame):\n",
    "        current_frame = idx\n",
    "        vel_current = df_wallinfo_reference.loc[idx,['XVelocity']].values\n",
    "        if ((vel_current > velThreshold) & (idx - last_slip_event > min_slip_interval) ):\n",
    "            vel_former_mean=df_wallinfo_reference.loc[range(idx-avg_window,idx),['XVelocity']].mean().values\n",
    "            vel_later_mean=df_wallinfo_reference.loc[range(idx+1,idx+avg_window+1),['XVelocity']].mean().values  \n",
    "            if (vel_former_mean < velThreshold) & (vel_later_mean > velThreshold):\n",
    "                slip_frame_reference.append(idx)\n",
    "                last_slip_event = idx\n",
    "                counter = counter + 1\n",
    "    K = 1 #step increment\n",
    "    for idx,item in enumerate(slip_frame_reference):  \n",
    "        slip_time = item\n",
    "        endtime = slip_time\n",
    "        startPosition = df_wallinfo_reference.loc[[item],['XPosition']].values\n",
    "        newPosition = startPosition\n",
    "        deltaPosition = startPosition\n",
    "        while abs(deltaPosition) >= 0.005:\n",
    "            endtime = endtime + K\n",
    "            if endtime <= end_frame:\n",
    "                deltaPosition = df_wallinfo_reference.loc[[endtime],['XPosition']].values - newPosition\n",
    "                newPosition = df_wallinfo_reference.loc[[endtime],['XPosition']].values\n",
    "            else:\n",
    "                break\n",
    "        slip_size_reference.append(newPosition-startPosition)\n",
    "np.savetxt((project_path + ref_path + \"slip_size_reference.csv\"), \n",
    "           np.array(slip_size_reference).flatten(), delimiter=\",\")"
   ]
  },
  {
   "cell_type": "code",
   "execution_count": 31,
   "metadata": {},
   "outputs": [
    {
     "data": {
      "image/png": "[encoded data removed]",
      "text/plain": [
       "<Figure size 756x756 with 1 Axes>"
      ]
     },
     "metadata": {
      "needs_background": "light"
     },
     "output_type": "display_data"
    }
   ],
   "source": [
    "# seaborn histogram\n",
    "# Whether to plot a gaussian kernel density estimate, KDE\n",
    "sns.distplot(slip_size_reference, hist=True, kde=False, \n",
    "             bins=15,  color = 'blue',\n",
    "             hist_kws={'edgecolor':'black'},)\n",
    "            #kde_kws={\"color\": \"R\", \"lw\": 3, \"label\": \"Gaussian Kernel Density Estimate\"})\n",
    "\n",
    "plt.title('Histogram of slip size of the reference system, 2500 free particles')\n",
    "plt.xlabel('Slip size in particle diameter')\n",
    "plt.ylabel('Events')\n",
    "fig = plt.gcf()\n",
    "fig.set_size_inches(10.5, 10.5)\n",
    "fig.savefig(project_path + ref_path +\"distribution_reference.png\" , dpi=200)"
   ]
  },
  {
   "cell_type": "markdown",
   "metadata": {},
   "source": []
  },
  {
   "cell_type": "markdown",
   "metadata": {},
   "source": [
    "# read ls data and wall data"
   ]
  },
  {
   "cell_type": "code",
   "execution_count": 29,
   "metadata": {},
   "outputs": [],
   "source": [
    "df_wallinfo_reference = pd.read_csv(project_path + ref_path +'wallinfo_reference.dat', skiprows=1, \n",
    "                              header = None, sep='\\s+')\n",
    "df_wallinfo_reference.columns = [\"Frame\",\"Xperiodic\", \"YPosition\",\"XVelocity\",\"YVelocity\",\"XPosition\",\n",
    "                           \"TopForceX\",\"TopForceY\",\"BottomForceX\", \"BottomForceY\",\"Springforce\"]\n",
    "\n",
    "df_wallinfo_reference_long = pd.read_csv(project_path + ref_path +'wallinfo_reference_10th.dat', \n",
    "                              header = None, sep='\\s+')\n",
    "df_wallinfo_reference_long.columns = [\"Frame\",\"Xperiodic\", \"YPosition\",\"XVelocity\",\"YVelocity\",\"XPosition\",\n",
    "                           \"TopForceX\",\"TopForceY\",\"BottomForceX\", \"BottomForceY\",\"Springforce\"]\n",
    "\n",
    "l_span_dir = project_path + ref_path + 'ls_data/'\n",
    "l_span_long_dir = project_path + ref_path + 'ls_data_long/'\n",
    "ls = []\n",
    "ls_long = []\n",
    "for i in range(4):# 4 regions of ls\n",
    "    ls_df = pd.read_csv((l_span_dir+'B0/ls_%d.txt')%(i+1),header = None, sep='\\s+')  \n",
    "    ls_df_long = pd.read_csv((l_span_long_dir+'B0/ls_%d.txt')%(i+1),header = None, sep='\\s+')\n",
    "    ls.append(ls_df.values.tolist()) \n",
    "    ls_long = ls_df_long.values.tolist()\n",
    "ls = np.array(ls)\n",
    "ls_long = np.array(ls_long)"
   ]
  },
  {
   "cell_type": "markdown",
   "metadata": {},
   "source": [
    "# old method for the short run with high output frequency"
   ]
  },
  {
   "cell_type": "code",
   "execution_count": 1,
   "metadata": {},
   "outputs": [],
   "source": [
    "# counter = 0\n",
    "# slip_frame_reference = []\n",
    "# slip_size_reference = []\n",
    "# ls_change = []\n",
    "# last_slip_event = 0\n",
    "# start_frame = 0\n",
    "# end_frame = 299999\n",
    "# velThreshold = 0.001\n",
    "# avg_window_short = 300\n",
    "# min_slip_interval = 100\n",
    "# for idx in range(start_frame + avg_window_short, end_frame):\n",
    "#     current_frame = idx\n",
    "#     vel_current = df_wallinfo_reference.loc[idx,['XVelocity']].values\n",
    "#     if((vel_current > velThreshold) & (idx - last_slip_event > min_slip_interval)):\n",
    "#         vel_former_mean=df_wallinfo_reference.loc[range(idx-avg_window_short,idx),['XVelocity']].mean().values\n",
    "#         vel_later_mean=df_wallinfo_reference.loc[range(idx+1,idx+avg_window_short+1),['XVelocity']].mean().values  \n",
    "#         if(vel_former_mean < velThreshold) & (vel_later_mean > velThreshold):\n",
    "#                 slip_frame_reference.append(idx)\n",
    "#                 last_slip_event = idx\n",
    "#                 counter = counter + 1\n",
    "                \n",
    "# K = 10 #step increment\n",
    "# for idx,item in enumerate(slip_frame_reference):  \n",
    "#     slip_time = item\n",
    "#     endtime = slip_time\n",
    "#     startPosition = df_wallinfo_reference.loc[[item],['XPosition']].values\n",
    "#     newPosition = startPosition\n",
    "#     deltaPosition = startPosition\n",
    "#     while abs(deltaPosition) >= 0.005:\n",
    "#         endtime = endtime + K\n",
    "#         if endtime <= end_frame:\n",
    "#             deltaPosition = df_wallinfo_reference.loc[[endtime],['XPosition']].values - newPosition\n",
    "#             newPosition = df_wallinfo_reference.loc[[endtime],['XPosition']].values\n",
    "#         else:\n",
    "#             break\n",
    "#     slip_size_reference.append(newPosition - startPosition)\n",
    "#     ls_changes_reg = []\n",
    "#     for i in range(4):\n",
    "#         ls_changes_reg.append(ls[i, endtime] - ls[i, slip_time])\n",
    "#     ls_change.append(np.array(ls_changes_reg).flatten().tolist())\n",
    "    \n",
    "# np.savetxt((project_path + ref_path + \"slip_size_ref_short.csv\"), \n",
    "#            np.array(slip_size_reference).flatten(), delimiter=\",\")\n",
    "# np.savetxt((project_path + ref_path + \"ls_changes_ref_short.csv\"), \n",
    "#            np.array(ls_change), delimiter=\",\")"
   ]
  },
  {
   "cell_type": "code",
   "execution_count": 2,
   "metadata": {},
   "outputs": [],
   "source": [
    "# print(counter)"
   ]
  },
  {
   "cell_type": "code",
   "execution_count": null,
   "metadata": {},
   "outputs": [],
   "source": [
    "# small_count = 0\n",
    "# large_count = 0\n",
    "# small_pos_count = np.array([0,0,0,0]) #if ls becomes bigger after slip event, it is counted\n",
    "# large_pos_count = np.array([0,0,0,0]) #if ls becomes bigger after slip event, it is counted\n",
    "# ls_change = np.array(ls_change)\n",
    "# for i, item in enumerate(slip_size_reference):\n",
    "#     ls_small_reg = []\n",
    "#     ls_large_reg = []\n",
    "    \n",
    "#     if item <= 3.0:\n",
    "#         small_count = small_count + 1\n",
    "#         for j in range(4):\n",
    "#             if ls_change[i,j] >= 0.0:\n",
    "#                 small_pos_count[j] = small_pos_count[j] + 1       \n",
    "#     else:\n",
    "#         large_count = large_count + 1\n",
    "#         for j in range(4):\n",
    "#             if ls_change[i,j] >= 0.0:\n",
    "#                 large_pos_count[j] = large_pos_count[j] + 1 \n",
    "# print(small_count)\n",
    "# print(small_pos_count)\n",
    "\n",
    "# print(large_count)\n",
    "# print(large_pos_count)"
   ]
  },
  {
   "cell_type": "code",
   "execution_count": 4,
   "metadata": {},
   "outputs": [],
   "source": [
    "# labels = ['LS1', 'LS2', 'LS3', 'LS4']\n",
    "# short_total = 62\n",
    "# short_small = 12\n",
    "# short_large = 50\n",
    "# ls_short_large = np.around(np.array([30,24,23,16])/short_large,2)\n",
    "# ls_short_small = np.around(np.array([6, 5, 5, 7])/short_small,2)\n",
    "\n",
    "# x = np.arange(len(labels))  # the label locations\n",
    "# width = 0.35                # the width of the bars\n",
    "\n",
    "# fig, ax = plt.subplots()\n",
    "# rects1 = ax.bar(x - width/2, ls_short_large, width, label='50 Large Events, > 3')\n",
    "# rects2 = ax.bar(x + width/2, ls_short_small, width, label='12 Small Events, < 3')\n",
    "\n",
    "# # Add some text for labels, title and custom x-axis tick labels, etc.\n",
    "# ax.set_ylabel('Percentage')\n",
    "# ax.set_title('Percentage of increased LS after slip svent, short simulation')\n",
    "# ax.set_xticks(x)\n",
    "# ax.set_xticklabels(labels)\n",
    "# ax.legend()\n",
    "\n",
    "# def autolabel(rects):\n",
    "#     \"\"\"Attach a text label above each bar in *rects*, displaying its height.\"\"\"\n",
    "#     for rect in rects:\n",
    "#         height = rect.get_height()\n",
    "#         ax.annotate('{}'.format(height),\n",
    "#                     xy=(rect.get_x() + rect.get_width() / 2, height),\n",
    "#                     xytext=(0, 3),  # 3 points vertical offset\n",
    "#                     textcoords=\"offset points\",\n",
    "#                     ha='center', va='bottom')\n",
    "\n",
    "\n",
    "# autolabel(rects1)\n",
    "# autolabel(rects2)\n",
    "\n",
    "# fig.tight_layout()\n",
    "# fig.set_size_inches(12.5, 10.5)\n",
    "# plt.show()\n",
    "# fig.savefig(project_path + ref_path +\"ls_grow_percentage_short.png\" , dpi=200)"
   ]
  },
  {
   "cell_type": "markdown",
   "metadata": {},
   "source": [
    "# long run with 1/10th output frequency"
   ]
  },
  {
   "cell_type": "code",
   "execution_count": 31,
   "metadata": {},
   "outputs": [],
   "source": [
    "counter = 0\n",
    "slip_frame_reference_long = []\n",
    "slip_size_reference_long = []\n",
    "ls_change_long = []\n",
    "last_slip_event = 0\n",
    "start_frame = 0\n",
    "end_frame = 299999\n",
    "velThreshold = 0.001\n",
    "avg_window = 20\n",
    "min_slip_interval = 150\n",
    "end_time_list = []\n",
    "\n",
    "for idx in range(start_frame + avg_window, end_frame - avg_window -1 ):\n",
    "    current_frame = idx\n",
    "    vel_current = df_wallinfo_reference_long.loc[idx,['XVelocity']].values #current velocity\n",
    "    # identify the starting the frames\n",
    "    if((vel_current > velThreshold) & (idx - last_slip_event > min_slip_interval)):\n",
    "        # find the mean value of the velocity if \n",
    "        vel_former_mean= df_wallinfo_reference_long.loc[range(idx-avg_window,idx),['XVelocity']].mean().values\n",
    "        vel_later_mean=df_wallinfo_reference_long.loc[range(idx+1,idx+avg_window+1),['XVelocity']].mean().values  \n",
    "        if(vel_former_mean < velThreshold) & (vel_later_mean > velThreshold):\n",
    "                slip_frame_reference_long.append(idx)\n",
    "                last_slip_event = idx\n",
    "                counter = counter + 1\n",
    "                \n",
    "K = 1 #step increment\n",
    "for idx,item in enumerate(slip_frame_reference_long):  \n",
    "    slip_time = item\n",
    "    endtime = slip_time\n",
    "    startPosition = df_wallinfo_reference_long.loc[[item],['XPosition']].values\n",
    "    newPosition = startPosition\n",
    "    deltaPosition = startPosition\n",
    "    end_vel  = df_wallinfo_reference_long.loc[[item],['XVelocity']].values\n",
    "    while abs(end_vel) >= velThreshold/5.0:\n",
    "        endtime = endtime + K\n",
    "        if endtime < end_frame:\n",
    "            end_vel = df_wallinfo_reference_long.loc[[endtime],['XVelocity']].values\n",
    "        else:\n",
    "            break\n",
    "            \n",
    "    prd = 20 # assume the oscilation has a period of 20 frames\n",
    "    \n",
    "    # get the average of the velocity during the oscilation of after-slip event\n",
    "    if endtime+prd+1<end_frame:\n",
    "        vel_after_mean=df_wallinfo_reference_long.loc[range(endtime+1,endtime+prd+1),['XVelocity']].mean().values\n",
    "    else:\n",
    "        endtime = end_frame\n",
    "    \n",
    "    #the ending threshold is 1/20 of the begining threshold\n",
    "    while (endtime+prd+1<end_frame) & (vel_after_mean >= velThreshold/20.0):\n",
    "        endtime = endtime + prd\n",
    "        vel_after_mean=df_wallinfo_reference_long.loc[range(endtime+1,endtime+prd+1),['XVelocity']].mean().values\n",
    "    \n",
    "    end_time_list.append(endtime)\n",
    "    newPosition = df_wallinfo_reference_long.loc[[endtime],['XPosition']].values\n",
    "    slip_size_reference_long.append(newPosition - startPosition)\n",
    "    \n",
    "    ls_changes_reg = []\n",
    "    for i in range(4):\n",
    "        ls_changes_reg.append(ls[i,endtime]-ls[i,slip_time])\n",
    "    ls_change_long.append(np.array(ls_changes_reg).flatten().tolist())\n",
    "\n",
    "\n",
    "np.savetxt((project_path + ref_path + \"slip_size_ref_long.csv\"), \n",
    "           np.array(slip_size_reference_long).flatten(), delimiter=\",\")\n",
    "np.savetxt((project_path + ref_path + \"ls_changes_ref_long.csv\"), \n",
    "           np.array(ls_change_long), delimiter=\",\")\n",
    "\n",
    "start = np.array(slip_frame_reference_long).flatten().reshape(-1, 1)\n",
    "end = np.array(end_time_list).flatten().reshape(-1, 1)\n",
    "time_range=np.concatenate((start,end),axis=1)\n",
    "np.savetxt((project_path + ref_path + \"slip_times.csv\"), time_range , delimiter=\",\")"
   ]
  },
  {
   "cell_type": "code",
   "execution_count": 3,
   "metadata": {},
   "outputs": [
    {
     "ename": "NameError",
     "evalue": "name 'end_time_list' is not defined",
     "output_type": "error",
     "traceback": [
      "\u001b[0;31m---------------------------------------------------------------------------\u001b[0m",
      "\u001b[0;31mNameError\u001b[0m                                 Traceback (most recent call last)",
      "\u001b[0;32m<ipython-input-3-548f35ccff22>\u001b[0m in \u001b[0;36m<module>\u001b[0;34m\u001b[0m\n\u001b[1;32m      1\u001b[0m \u001b[0;32mimport\u001b[0m \u001b[0mcollections\u001b[0m\u001b[0;34m\u001b[0m\u001b[0;34m\u001b[0m\u001b[0m\n\u001b[0;32m----> 2\u001b[0;31m \u001b[0mset\u001b[0m\u001b[0;34m(\u001b[0m\u001b[0;34m[\u001b[0m\u001b[0mx\u001b[0m \u001b[0;32mfor\u001b[0m \u001b[0mx\u001b[0m \u001b[0;32min\u001b[0m \u001b[0mend_time_list\u001b[0m \u001b[0;32mif\u001b[0m \u001b[0mend_time_list\u001b[0m\u001b[0;34m.\u001b[0m\u001b[0mcount\u001b[0m\u001b[0;34m(\u001b[0m\u001b[0mx\u001b[0m\u001b[0;34m)\u001b[0m \u001b[0;34m>\u001b[0m \u001b[0;36m1\u001b[0m\u001b[0;34m]\u001b[0m\u001b[0;34m)\u001b[0m\u001b[0;34m\u001b[0m\u001b[0;34m\u001b[0m\u001b[0m\n\u001b[0m",
      "\u001b[0;31mNameError\u001b[0m: name 'end_time_list' is not defined"
     ]
    }
   ],
   "source": [
    "import collections\n",
    "set([x for x in end_time_list if end_time_list.count(x) > 1])"
   ]
  },
  {
   "cell_type": "code",
   "execution_count": null,
   "metadata": {},
   "outputs": [],
   "source": [
    "print(ls_change)\n",
    "#plt.plot(ls_change[:][0],slip_size_reference)"
   ]
  },
  {
   "cell_type": "code",
   "execution_count": 33,
   "metadata": {},
   "outputs": [
    {
     "name": "stdout",
     "output_type": "stream",
     "text": [
      "126\n",
      "[66 58 64 65]\n",
      "360\n",
      "[159 174 187 207]\n"
     ]
    }
   ],
   "source": [
    "small_count_long = 0\n",
    "large_count_long = 0\n",
    "small_pos_count_long = np.array([0,0,0,0]) #if ls becomes bigger after slip event, it is counted\n",
    "large_pos_count_long = np.array([0,0,0,0]) #if ls becomes bigger after slip event, it is counted\n",
    "ls_change_long = np.array(ls_change_long)\n",
    "for i, item in enumerate(slip_size_reference_long):\n",
    "    if item <= 3.0:\n",
    "        small_count_long = small_count_long + 1\n",
    "        for j in range(4):\n",
    "            if ls_change_long[i,j] >= 0.0:\n",
    "                small_pos_count_long[j] = small_pos_count_long[j] + 1       \n",
    "    else:\n",
    "        large_count_long = large_count_long + 1\n",
    "        for j in range(4):\n",
    "            if ls_change_long[i,j] >= 0.0:\n",
    "                large_pos_count_long[j] = large_pos_count_long[j] + 1 \n",
    "print(small_count_long)\n",
    "print(small_pos_count_long)\n",
    "\n",
    "print(large_count_long)\n",
    "print(large_pos_count_long)"
   ]
  },
  {
   "cell_type": "code",
   "execution_count": 34,
   "metadata": {},
   "outputs": [
    {
     "data": {
      "image/png": "[encoded data removed]",
      "text/plain": [
       "<Figure size 900x756 with 1 Axes>"
      ]
     },
     "metadata": {
      "needs_background": "light"
     },
     "output_type": "display_data"
    }
   ],
   "source": [
    "labels = ['LS1', 'LS2', 'LS3', 'LS4']\n",
    "long_total = 486\n",
    "long_small = 126\n",
    "long_large = 360\n",
    "ls_long_large = np.around(np.array([159, 174, 187, 207])/long_large,2)\n",
    "ls_long_small = np.around(np.array([66, 58, 64, 65])/long_small,2)\n",
    "\n",
    "x = np.arange(len(labels))  # the label locations\n",
    "width = 0.35                # the width of the bars\n",
    "\n",
    "fig, ax = plt.subplots()\n",
    "rects1 = ax.bar(x - width/2, ls_long_large, width, label='352 Large Events, > 3')\n",
    "rects2 = ax.bar(x + width/2, ls_long_small, width, label='134 Small Events, < 3')\n",
    "\n",
    "# Add some text for labels, title and custom x-axis tick labels, etc.\n",
    "ax.set_ylabel('Percentage')\n",
    "ax.set_title('Percentage of increased LS after slip svents, long simulation')\n",
    "ax.set_xticks(x)\n",
    "ax.set_xticklabels(labels)\n",
    "ax.legend()\n",
    "\n",
    "def autolabel(rects):\n",
    "    \"\"\"Attach a text label above each bar in *rects*, displaying its height.\"\"\"\n",
    "    for rect in rects:\n",
    "        height = rect.get_height()\n",
    "        ax.annotate('{}'.format(height),\n",
    "                    xy=(rect.get_x() + rect.get_width() / 2, height),\n",
    "                    xytext=(0, 3),  # 3 points vertical offset\n",
    "                    textcoords=\"offset points\",\n",
    "                    ha='center', va='bottom')\n",
    "\n",
    "\n",
    "autolabel(rects1)\n",
    "autolabel(rects2)\n",
    "\n",
    "fig.tight_layout()\n",
    "fig.set_size_inches(12.5, 10.5)\n",
    "plt.show()\n",
    "fig.savefig(project_path + ref_path +\"ls_grow_percentage_long.png\" , dpi=200)"
   ]
  },
  {
   "cell_type": "code",
   "execution_count": 35,
   "metadata": {
    "scrolled": true
   },
   "outputs": [
    {
     "data": {
      "image/png": "[encoded data removed]",
      "text/plain": [
       "<Figure size 1116x540 with 1 Axes>"
      ]
     },
     "metadata": {
      "needs_background": "light"
     },
     "output_type": "display_data"
    }
   ],
   "source": [
    "sns.distplot(ls_change_long[:,0], hist=True, kde=False, \n",
    "             bins=15,  color = 'blue',\n",
    "             hist_kws={'edgecolor':'black'},)\n",
    "            #kde_kws={\"color\": \"R\", \"lw\": 3, \"label\": \"Gaussian Kernel Density Estimate\"})\n",
    "\n",
    "plt.title('Histogram of LS1 change of the reference system, 2500 free particles')\n",
    "plt.xlabel('LS changes')\n",
    "plt.ylabel('Events')\n",
    "fig = plt.gcf()\n",
    "fig.set_size_inches(15.5, 7.5)\n",
    "fig.savefig(project_path + ref_path +\"ls1_change_distribution.png\" , dpi=200)"
   ]
  },
  {
   "cell_type": "code",
   "execution_count": 36,
   "metadata": {},
   "outputs": [
    {
     "data": {
      "image/png": "[encoded data removed]",
      "text/plain": [
       "<Figure size 1116x540 with 1 Axes>"
      ]
     },
     "metadata": {
      "needs_background": "light"
     },
     "output_type": "display_data"
    }
   ],
   "source": [
    "sns.distplot(ls_change_long[:,1], hist=True, kde=False, \n",
    "             bins=15,  color = 'blue',\n",
    "             hist_kws={'edgecolor':'black'},)\n",
    "            #kde_kws={\"color\": \"R\", \"lw\": 3, \"label\": \"Gaussian Kernel Density Estimate\"})\n",
    "\n",
    "plt.title('Histogram of LS2 change of the reference system, 2500 free particles')\n",
    "plt.xlabel('LS changes')\n",
    "plt.ylabel('Events')\n",
    "fig = plt.gcf()\n",
    "fig.set_size_inches(15.5, 7.5)\n",
    "fig.savefig(project_path + ref_path +\"ls2_change_distribution.png\" , dpi=200)"
   ]
  },
  {
   "cell_type": "code",
   "execution_count": 37,
   "metadata": {},
   "outputs": [
    {
     "data": {
      "image/png": "[encoded data removed]",
      "text/plain": [
       "<Figure size 1116x540 with 1 Axes>"
      ]
     },
     "metadata": {
      "needs_background": "light"
     },
     "output_type": "display_data"
    }
   ],
   "source": [
    "sns.distplot(ls_change_long[:,2], hist=True, kde=False, \n",
    "             bins=15,  color = 'blue',\n",
    "             hist_kws={'edgecolor':'black'},)\n",
    "            #kde_kws={\"color\": \"R\", \"lw\": 3, \"label\": \"Gaussian Kernel Density Estimate\"})\n",
    "\n",
    "plt.title('Histogram of LS3 change of the reference system, 2500 free particles')\n",
    "plt.xlabel('LS changes')\n",
    "plt.ylabel('Events')\n",
    "fig = plt.gcf()\n",
    "fig.set_size_inches(15.5, 7.5)\n",
    "fig.savefig(project_path + ref_path +\"ls3_change_distribution.png\" , dpi=200)"
   ]
  },
  {
   "cell_type": "code",
   "execution_count": 38,
   "metadata": {},
   "outputs": [
    {
     "data": {
      "image/png": "[encoded data removed]",
      "text/plain": [
       "<Figure size 1116x540 with 1 Axes>"
      ]
     },
     "metadata": {
      "needs_background": "light"
     },
     "output_type": "display_data"
    }
   ],
   "source": [
    "sns.distplot(ls_change_long[:,3], hist=True, kde=False, \n",
    "             bins=15,  color = 'blue',\n",
    "             hist_kws={'edgecolor':'black'},)\n",
    "            #kde_kws={\"color\": \"R\", \"lw\": 3, \"label\": \"Gaussian Kernel Density Estimate\"})\n",
    "\n",
    "plt.title('Histogram of LS4 change of the reference system, 2500 free particles')\n",
    "plt.xlabel('LS changes')\n",
    "plt.ylabel('Events')\n",
    "fig = plt.gcf()\n",
    "fig.set_size_inches(15.5, 7.5)\n",
    "fig.savefig(project_path + ref_path +\"ls4_change_distribution.png\" , dpi=200)"
   ]
  },
  {
   "cell_type": "code",
   "execution_count": null,
   "metadata": {},
   "outputs": [],
   "source": []
  },
  {
   "cell_type": "code",
   "execution_count": null,
   "metadata": {},
   "outputs": [],
   "source": []
  },
  {
   "cell_type": "code",
   "execution_count": null,
   "metadata": {},
   "outputs": [],
   "source": []
  },
  {
   "cell_type": "code",
   "execution_count": null,
   "metadata": {},
   "outputs": [],
   "source": []
  },
  {
   "cell_type": "code",
   "execution_count": null,
   "metadata": {},
   "outputs": [],
   "source": []
  },
  {
   "cell_type": "code",
   "execution_count": null,
   "metadata": {},
   "outputs": [],
   "source": []
  },
  {
   "cell_type": "code",
   "execution_count": null,
   "metadata": {},
   "outputs": [],
   "source": []
  },
  {
   "cell_type": "code",
   "execution_count": null,
   "metadata": {},
   "outputs": [],
   "source": []
  },
  {
   "cell_type": "code",
   "execution_count": null,
   "metadata": {},
   "outputs": [],
   "source": []
  }
 ],
 "metadata": {
  "kernelspec": {
   "display_name": "Python 3",
   "language": "python",
   "name": "python3"
  },
  "language_info": {
   "codemirror_mode": {
    "name": "ipython",
    "version": 3
   },
   "file_extension": ".py",
   "mimetype": "text/x-python",
   "name": "python",
   "nbconvert_exporter": "python",
   "pygments_lexer": "ipython3",
   "version": "3.7.3"
  }
 },
 "nbformat": 4,
 "nbformat_minor": 2
}
