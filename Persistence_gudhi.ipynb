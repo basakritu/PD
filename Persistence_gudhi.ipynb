{
 "cells": [
  {
   "cell_type": "code",
   "execution_count": 1,
   "metadata": {},
   "outputs": [],
   "source": [
    "import numpy as np\n",
    "import matplotlib\n",
    "from matplotlib import pyplot as plt\n",
    "\n"
   ]
  },
  {
   "cell_type": "code",
   "execution_count": 14,
   "metadata": {},
   "outputs": [
    {
     "data": {
      "text/plain": [
       "<Figure size 432x288 with 0 Axes>"
      ]
     },
     "metadata": {},
     "output_type": "display_data"
    }
   ],
   "source": [
    "## Compute PD\n",
    "\n",
    "for i in range(2,3):\n",
    "    file=open('../Gudhi_Persistence/' + str(i)+'.txt','r')\n",
    "    file2=file.read()\n",
    "    file3=file2.replace('(0,','')\n",
    "    file4=file3.replace('))','')\n",
    "    file5=file4.replace(' (','')\n",
    "    file6=file5.replace('[','')\n",
    "    file7=file6.replace(']','')\n",
    "    file8=file7.replace(' ','')\n",
    "    file9=file8.replace('inf','0')\n",
    "    data=file9.split(',')\n",
    "    data1=np.asarray(data)\n",
    "    birth=[]\n",
    "    death=[]\n",
    "    for j in range(0,len(data1)//2):\n",
    "        birth.append(abs(float(data1[2*j])))\n",
    "    birthh=np.array(birth)\n",
    "    for k in range(0,len(data1)//2):\n",
    "        death.append(abs(float(data1[2*k+1])))\n",
    "    deathh=np.array(death)\n",
    "    plt.figure()\n",
    "    fig, ax = plt.subplots()\n",
    "    ax.plot(birthh,deathh,'bo',markersize=2)\n",
    "    ax.plot(np.arange(0.0,255.0,0.5), np.arange(0.0,255.0,0.5),'r--')\n",
    "    ax.vlines(x=60, ymin=0, ymax=80,color='k', linestyle='--')\n",
    "    ax.vlines(x=80, ymin=0, ymax=80,color='k', linestyle='--')\n",
    "    #plt.axhline(y=80.0, color='k', linestyle='--')\n",
    "    ax.hlines(y=60, xmin=60, xmax=150, color='k', linestyle='--')\n",
    "    ax.hlines(y=80, xmin=60, xmax=150, color='k', linestyle='--')\n",
    "    plt.axis('scaled')\n",
    "    plt.axis([0, 150 , 0, 150])\n",
    "    plt.xlabel('Birth')\n",
    "    plt.ylabel('Death')\n",
    "    plt.title('time2_th_60-80')\n",
    "    plt.savefig('../thresholding/show_to_group/60-80/', dpi=800)\n",
    "    plt.close()\n",
    "    plt.show()\n"
   ]
  },
  {
   "cell_type": "code",
   "execution_count": null,
   "metadata": {},
   "outputs": [],
   "source": [
    "##for thresholding a PD \n",
    "\n",
    "\n",
    "import numpy as np\n",
    "import matplotlib\n",
    "from matplotlib import pyplot as plt\n",
    "\n",
    "for i in range(2,2872):\n",
    "    file=open('../Gudhi_Persistence/' + str(i)+'.txt','r')\n",
    "    file2=file.read()\n",
    "    file3=file2.replace('(0,','')\n",
    "    file4=file3.replace('))','')\n",
    "    file5=file4.replace(' (','')\n",
    "    file6=file5.replace('[','')\n",
    "    file7=file6.replace(']','')\n",
    "    file8=file7.replace(' ','')\n",
    "    file9=file8.replace('inf','0')\n",
    "    data=file9.split(',')\n",
    "    data1=np.asarray(data)\n",
    "    birth=[]\n",
    "    death=[]\n",
    "    for j in range(0,len(data1)//2):\n",
    "        birth.append(abs(float(data1[2*j])))\n",
    "    birthh=np.array(birth)\n",
    "    for k in range(0,len(data1)//2):\n",
    "        death.append(abs(float(data1[2*k+1])))\n",
    "    deathh=np.array(death)\n",
    "    th=[]\n",
    "    for i in range(80,81):\n",
    "        th.append(i)\n",
    "    thre=np.array(th)\n",
    "    #print(thre)\n",
    "    for i in range(0,len(thre)):\n",
    "        plt.figure()\n",
    "        fig, ax = plt.subplots()\n",
    "        ax.plot(birthh,deathh,'bo',markersize=2)\n",
    "        ax.plot(np.arange(0.0,255.0,0.5), np.arange(0.0,255.0,0.5),'r--')\n",
    "        ax.vlines(x=thre[i], ymin=0, ymax=thre[i],color='k', linestyle='--')\n",
    "        #plt.axhline(y=80.0, color='k', linestyle='--')\n",
    "        ax.hlines(y=thre[i], xmin=thre[i], xmax=150, color='k', linestyle='--')\n",
    "        plt.axis('scaled')\n",
    "        plt.axis([0, 150 , 0, 150])\n",
    "        plt.xlabel('Birth')\n",
    "        plt.ylabel('Death')\n",
    "        plt.title('time2_th'+str(thre[i]))\n",
    "        plt.savefig('../thresholding/'+str(thre[i]), dpi=800)\n",
    "        plt.close()\n",
    "        plt.show()\n"
   ]
  },
  {
   "cell_type": "code",
   "execution_count": 3,
   "metadata": {},
   "outputs": [
    {
     "name": "stdout",
     "output_type": "stream",
     "text": [
      "[416.1699 425.3971 408.8444 ... 200.6077 193.9055 242.8324]\n"
     ]
    },
    {
     "data": {
      "text/plain": [
       "Text(0.5, 1.0, 'TP')"
      ]
     },
     "execution_count": 3,
     "metadata": {},
     "output_type": "execute_result"
    },
    {
     "data": {
      "image/png": "[encoded data removed]",
      "text/plain": [
       "<Figure size 432x288 with 1 Axes>"
      ]
     },
     "metadata": {
      "needs_background": "light"
     },
     "output_type": "display_data"
    }
   ],
   "source": [
    "## Total Persistence\n",
    "Tp=[]\n",
    "for i in range(2,2872):\n",
    "    file=open('../Gudhi_Persistence/' + str(i)+'.txt','r')\n",
    "    file2=file.read()\n",
    "    file3=file2.replace('(0,','')\n",
    "    file4=file3.replace('))','')\n",
    "    file5=file4.replace(' (','')\n",
    "    file6=file5.replace('[','')\n",
    "    file7=file6.replace(']','')\n",
    "    file8=file7.replace(' ','')\n",
    "    file9=file8.replace('inf','0')\n",
    "    data=file9.split(',')\n",
    "    data1=np.asarray(data)\n",
    "    birth=[]\n",
    "    death=[]\n",
    "    for j in range(0,len(data1)//2):\n",
    "        birth.append(abs(float(data1[2*j])))\n",
    "    birthh=np.array(birth)\n",
    "    for k in range(0,len(data1)//2):\n",
    "        death.append(abs(float(data1[2*k+1])))\n",
    "    deathh=np.array(death)\n",
    "    diff=sum(birthh-deathh)\n",
    "    Tp.append(diff)\n",
    "tp=np.array(Tp)\n",
    "print(tp)\n",
    "t=range(2,2872)\n",
    "plt.figure()\n",
    "plt.plot(t,tp)\n",
    "plt.xlabel('TP')\n",
    "plt.ylabel('time')\n",
    "plt.title('TP')"
   ]
  },
  {
   "cell_type": "code",
   "execution_count": 14,
   "metadata": {},
   "outputs": [
    {
     "name": "stdout",
     "output_type": "stream",
     "text": [
      "[-0.037405   -0.028616   -0.00089959 ...  0.78661     0.72797\n",
      "  0.5148    ]\n"
     ]
    },
    {
     "name": "stderr",
     "output_type": "stream",
     "text": [
      "C:\\Users\\ritup\\Anaconda3\\lib\\site-packages\\ipykernel_launcher.py:24: MatplotlibDeprecationWarning: Unrecognized location '\\nVel_intruder'. Falling back on 'best'; valid locations are\n",
      "\tbest\n",
      "\tupper right\n",
      "\tupper left\n",
      "\tlower left\n",
      "\tlower right\n",
      "\tright\n",
      "\tcenter left\n",
      "\tcenter right\n",
      "\tlower center\n",
      "\tupper center\n",
      "\tcenter\n",
      "This will raise an exception in 3.3.\n"
     ]
    }
   ],
   "source": [
    "velo_int= np.loadtxt('../IntruderTime_IntruderVelocity.txt')\n",
    "velocity=[]\n",
    "for i in range(1,2872):\n",
    "    velocity.append(velo_int[i,2])\n",
    "vel_Data=np.array(velocity)\n",
    "print((vel_Data))\n",
    "\n",
    "fig = plt.figure(figsize=(20,5))    \n",
    "ax1 = fig.gca()\n",
    "color = 'tab:red'\n",
    "ax1.set_xlabel('frame')\n",
    "ax1.set_ylabel('TP_0', color=color)\n",
    "ax1.plot(tp, color=color, label='total_persistence')\n",
    "ax1.tick_params(axis='y', labelcolor=color)\n",
    "plt.legend(loc='upper left')\n",
    "ax2 = ax1.twinx()  # instantiate a second axes that shares the same x-axis\n",
    "\n",
    "color = 'tab:blue'\n",
    "ax2.set_ylabel('vel_Data', color=color)  # we already handled the x-label with ax1\n",
    "ax2.plot(vel_Data, color=color, label='Vel_intruder')\n",
    "ax2.tick_params(axis='y', labelcolor=color)\n",
    "fig.tight_layout()  # otherwise the right y-label is slightly clipped\n",
    "plt.title('total persistence vs velocity')\n",
    "plt.legend(loc='\\n'+'Vel_intruder')\n",
    "#plt.savefig('..\\thresholding\\Next_Thrusday\\Exterimental\\' + 'total_persistence_vs_Int_vel.png', dpi=800)\n",
    "plt.savefig('TP vs Velocity' )\n",
    "plt.close(fig)\n",
    "plt.show()"
   ]
  },
  {
   "cell_type": "code",
   "execution_count": 17,
   "metadata": {},
   "outputs": [],
   "source": [
    "import numpy as np\n",
    "import matplotlib\n",
    "from matplotlib import pyplot as plt\n",
    "for i in range(2,3):\n",
    "    file=open('../Gudhi_Persistence/' + str(i)+'.txt','r')\n",
    "    file2=file.read()\n",
    "    file3=file2.replace('(0,','')\n",
    "    file4=file3.replace('))','')\n",
    "    file5=file4.replace(' (','')\n",
    "    file6=file5.replace('[','')\n",
    "    file7=file6.replace(']','')\n",
    "    file8=file7.replace(' ','')\n",
    "    file9=file8.replace('inf','0')\n",
    "    data=file9.split(',')\n",
    "    data1=np.asarray(data)\n",
    "    birth=[]\n",
    "    death=[]\n",
    "    for j in range(0,len(data1)//2):\n",
    "        birth.append(abs(float(data1[2*j])))\n",
    "    birthh=np.array(birth)\n",
    "    for k in range(0,len(data1)//2):\n",
    "        death.append(abs(float(data1[2*k+1])))\n",
    "    deathh=np.array(deathh)\n",
    "    "
   ]
  },
  {
   "cell_type": "code",
   "execution_count": 23,
   "metadata": {},
   "outputs": [
    {
     "name": "stdout",
     "output_type": "stream",
     "text": [
      "4\n"
     ]
    }
   ],
   "source": [
    "betti_arr=[]\n",
    "count=0\n",
    "th=80\n",
    "for s in range(0,len(birthh)//2):\n",
    "    if(birthh[s]>th and deathh[s]<th):\n",
    "        count=count+1\n",
    "print(count)\n",
    "#print(((betti_num)))"
   ]
  },
  {
   "cell_type": "code",
   "execution_count": null,
   "metadata": {},
   "outputs": [],
   "source": []
  }
 ],
 "metadata": {
  "kernelspec": {
   "display_name": "Python 3",
   "language": "python",
   "name": "python3"
  },
  "language_info": {
   "codemirror_mode": {
    "name": "ipython",
    "version": 3
   },
   "file_extension": ".py",
   "mimetype": "text/x-python",
   "name": "python",
   "nbconvert_exporter": "python",
   "pygments_lexer": "ipython3",
   "version": "3.7.4"
  }
 },
 "nbformat": 4,
 "nbformat_minor": 2
}
