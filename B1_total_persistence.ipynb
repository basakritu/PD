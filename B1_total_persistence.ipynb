{
 "cells": [
  {
   "cell_type": "code",
   "execution_count": 65,
   "metadata": {},
   "outputs": [],
   "source": [
    "import numpy as np\n",
    "import gudhi\n",
    "import matplotlib\n",
    "from matplotlib import pyplot as plt\n",
    "import pandas as pd"
   ]
  },
  {
   "cell_type": "code",
   "execution_count": 66,
   "metadata": {},
   "outputs": [],
   "source": [
    "s=[984,1662,1170,1476,1394,1466,1034,1082,1178,928]  "
   ]
  },
  {
   "cell_type": "code",
   "execution_count": 67,
   "metadata": {},
   "outputs": [
    {
     "name": "stdout",
     "output_type": "stream",
     "text": [
      "[0.39129744 0.71249829 0.35165645 ... 0.37357653 0.42318852 3.11660701]\n"
     ]
    }
   ],
   "source": [
    "avg=[]\n",
    "Tp_above=[]\n",
    "Tp_below=[]\n",
    "Tp=[]\n",
    "for idx in range(1,s[4]):\n",
    "    file_name = ('../simulation_data/New_data/DATA/s13/' + 'force_contact_' + '%06d.dat' % idx)\n",
    "    data=np.loadtxt(file_name)\n",
    "    id1 = data[:,0]\n",
    "    id2 = data[:,1]\n",
    "    force = np.sqrt((data[:,4])**2+(data[:,5])**2)\n",
    "    #print(force)\n",
    "    avg.append(np.average(force))\n",
    "average=np.array(avg) ##space average\n",
    "\n",
    "print(average)\n"
   ]
  },
  {
   "cell_type": "code",
   "execution_count": 68,
   "metadata": {},
   "outputs": [
    {
     "name": "stdout",
     "output_type": "stream",
     "text": [
      "1.3799395120975104\n"
     ]
    }
   ],
   "source": [
    "s_t_avg=np.average(average)\n",
    "print(s_t_avg)"
   ]
  },
  {
   "cell_type": "code",
   "execution_count": 69,
   "metadata": {},
   "outputs": [],
   "source": [
    "\n",
    "def trivialTriangle(particle_ids, force):\n",
    "# particle_ids: a list of particle ids in contact; dimension: N*2\n",
    "# force: list of contact force;dimension: N*1\n",
    "# trivial: list, n*4\n",
    "    trivialLoops = []\n",
    "    id_len = len(particle_ids)\n",
    "    for idx,item in enumerate(particle_ids):\n",
    "        id1 = item[0]\n",
    "        id2 = item[1]\n",
    "        force12 = force[idx]    \n",
    "        id1_set = set()\n",
    "        id2_set = set()   \n",
    "        for i in range(idx+1,id_len):\n",
    "            l2 = particle_ids[i]\n",
    "            if id1 in l2:\n",
    "                id3 = l2[l2!=id1]\n",
    "                id1_set.add(id3)\n",
    "                \n",
    "            if id2 in l2:\n",
    "                id3 = l2[l2!=id2]\n",
    "                id2_set.add(id3)\n",
    "        #print(id1_set)\n",
    "        \n",
    "        common_id3 = id1_set & id2_set\n",
    "        len_common = len(common_id3)\n",
    "        #print(common_id3)\n",
    "        if len_common > 0:\n",
    "            #print(len_common)\n",
    "            for id3 in common_id3:\n",
    "                #print(id3)\n",
    "                for j in range(idx+1,len(particle_ids)):\n",
    "                    if set([id1,id3]) == set(particle_ids[j]):\n",
    "                        force13 = force[j]\n",
    "                    if set([id2,id3]) == set(particle_ids[j]):\n",
    "                        force23 = force[j]\n",
    "                        \n",
    "                fmin = min(force12,force13,force23)\n",
    "                trivialLoops.append([id1,id2,id3,fmin])\n",
    "    return trivialLoops\n",
    "\n",
    "\n",
    "\n"
   ]
  },
  {
   "cell_type": "code",
   "execution_count": 80,
   "metadata": {},
   "outputs": [],
   "source": [
    "\n",
    "###107,108\n",
    "TP_1=[]\n",
    "TP_above=[]\n",
    "TP_below=[]\n",
    "for idx in range(1,s[4]):\n",
    "    file_name = ('../simulation_data/New_data/DATA/s13/' + 'force_contact_' + '%06d.dat' % idx)\n",
    "    data=np.loadtxt(file_name)\n",
    "    #id_1 = data[:,0]\n",
    "    #id_2 = data[:,1]\n",
    "    force = np.sqrt((data[:,4])**2+(data[:,5])**2)\n",
    "    particle_id=[]\n",
    "    cond_f=[]\n",
    "    id1=[]\n",
    "    id2=[]\n",
    "    for i in range(0,len(force)):\n",
    "        if force[i]!=0.0:\n",
    "            if (data[i,0]>0 and data[i,1]>0):\n",
    "                cond_f.append(np.sqrt((data[i,4])**2+(data[i,5])**2))\n",
    "                id1.append(data[i,0])\n",
    "                id2.append(data[i,1])\n",
    "    cond_force=np.array(cond_f)\n",
    "    id_1=np.array(id1)\n",
    "    id_2=np.array(id2)\n",
    "    for i in range(0,len(id_1)):\n",
    "        particle_id.append([id_1[i],id_2[i]])\n",
    "    pid=np.array(particle_id)\n",
    "    #print(pid)\n",
    "    particle_ids=pid.tolist()\n",
    "    #print(particle_ids)\n",
    "    contact_force=cond_force.tolist()\n",
    "    #print(contact_force)\n",
    "    # find the trivial loops\n",
    "    trivialLoops = trivialTriangle(particle_ids, contact_force)\n",
    "    #print(trivialLoops)\n",
    "    # construct simplex trees\n",
    "    contact_length = len(contact_force)\n",
    "    loops_length = len(trivialLoops)\n",
    "    \n",
    "    st = gudhi.SimplexTree()\n",
    "    for i in range(contact_length):\n",
    "        st.insert(particle_ids[i], filtration = - contact_force[i])\n",
    "            \n",
    "    for i in range(loops_length):\n",
    "        st.insert(trivialLoops[i][0:3], filtration = -trivialLoops[i][3])\n",
    "\n",
    "    st.initialize_filtration()\n",
    "    diag = st.persistence(11, 0.0, persistence_dim_max = True)\n",
    "    #B0 = st.persistence_intervals_in_dimension(0)\n",
    "    B1 = st.persistence_intervals_in_dimension(1)\n",
    "    #print(B1)\n",
    "    B1_births = [] \n",
    "    B1_deaths = [] \n",
    "    for ind, item in enumerate(B1):\n",
    "        B1_births.append(-item[0])\n",
    "        B1_deaths.append(-item[1])\n",
    "    for i, item in enumerate(B1_deaths):\n",
    "        if np.isinf(item):\n",
    "            B1_deaths[i] = 0.0\n",
    "            \n",
    "    births_np = np.array(B1_births)\n",
    "    deaths_np = np.array(B1_deaths)\n",
    "    b_above=[]\n",
    "    b_below=[]\n",
    "    total_persistence=np.sum(births_np-deaths_np)\n",
    "    TP_1.append(total_persistence)\n",
    "    for i in range(0,len(births_np)):\n",
    "        if births_np[i]>average[i]:\n",
    "            b_above.append((births_np[i]))\n",
    "        if births_np[i]<average[i]:\n",
    "            b_below.append(np.sum(births_np[i]))\n",
    "    TP_above.append(np.sum(b_above))\n",
    "    TP_below.append(np.sum(b_below))\n",
    "    #print(TP_below)"
   ]
  },
  {
   "cell_type": "code",
   "execution_count": null,
   "metadata": {},
   "outputs": [],
   "source": []
  },
  {
   "cell_type": "code",
   "execution_count": 75,
   "metadata": {},
   "outputs": [],
   "source": [
    "Intruder_Info_03=np.loadtxt('../simulation_data/New_data/DATA/cfIntruder-s03.log')\n",
    "Intruder_Info_05=np.loadtxt('../simulation_data/New_data/DATA/cfIntruder-s05.log')\n",
    "Intruder_Info_07=np.loadtxt('../simulation_data/New_data/DATA/cfIntruder-s07.log')\n",
    "Intruder_Info_11=np.loadtxt('../simulation_data/New_data/DATA/cfIntruder-s11.log')\n",
    "Intruder_Info_13=np.loadtxt('../simulation_data/New_data/DATA/cfIntruder-s13.log')\n",
    "Intruder_Info_17=np.loadtxt('../simulation_data/New_data/DATA/cfIntruder-s17.log')\n",
    "Intruder_Info_19=np.loadtxt('../simulation_data/New_data/DATA/cfIntruder-s19.log')\n",
    "Intruder_Info_23=np.loadtxt('../simulation_data/New_data/DATA/cfIntruder-s23.log')\n",
    "Intruder_Info_29=np.loadtxt('../simulation_data/New_data/DATA/cfIntruder-s29.log')\n",
    "Intruder_Info_31=np.loadtxt('../simulation_data/New_data/DATA/cfIntruder-s31.log')\n",
    "#print(Intruder_Info)\n",
    "Intruder_Velocity_03=Intruder_Info_03[:,8]\n",
    "Intruder_Velocity_05=Intruder_Info_05[:,8]\n",
    "Intruder_Velocity_07=Intruder_Info_07[:,8]\n",
    "Intruder_Velocity_11=Intruder_Info_11[:,8]\n",
    "Intruder_Velocity_13=Intruder_Info_13[:,8]\n",
    "Intruder_Velocity_17=Intruder_Info_17[:,8]\n",
    "Intruder_Velocity_19=Intruder_Info_19[:,8]\n",
    "Intruder_Velocity_23=Intruder_Info_23[:,8]\n",
    "Intruder_Velocity_29=Intruder_Info_29[:,8]\n",
    "Intruder_Velocity_31=Intruder_Info_31[:,8]\n",
    "Intruder_angF_03=Intruder_Info_03[:,10]\n",
    "Intruder_angF_05=Intruder_Info_05[:,10]\n",
    "Intruder_angF_07=Intruder_Info_07[:,10]\n",
    "Intruder_angF_11=Intruder_Info_11[:,10]\n",
    "Intruder_angF_13=Intruder_Info_13[:,10]\n",
    "Intruder_angF_17=Intruder_Info_17[:,10]\n",
    "Intruder_angF_19=Intruder_Info_19[:,10]\n",
    "Intruder_angF_23=Intruder_Info_23[:,10]\n",
    "Intruder_angF_29=Intruder_Info_29[:,10]\n",
    "Intruder_angF_31=Intruder_Info_31[:,10]\n",
    "\n"
   ]
  },
  {
   "cell_type": "code",
   "execution_count": null,
   "metadata": {},
   "outputs": [],
   "source": []
  },
  {
   "cell_type": "code",
   "execution_count": null,
   "metadata": {},
   "outputs": [],
   "source": []
  },
  {
   "cell_type": "code",
   "execution_count": 72,
   "metadata": {},
   "outputs": [],
   "source": [
    "total_persist=pd.read_csv('../simulation_data/PD_files/B1/s13/total_persistence.csv')"
   ]
  },
  {
   "cell_type": "code",
   "execution_count": null,
   "metadata": {},
   "outputs": [],
   "source": []
  },
  {
   "cell_type": "code",
   "execution_count": 81,
   "metadata": {},
   "outputs": [],
   "source": [
    "## plot in subplots for space average\n",
    "\"\"\"\n",
    "| 03 | 456 - 947 | 983 |\n",
    "| 05 | 370 - 1200 | 1661 |\n",
    "| 07 | 816 - 1400 | 1169 |\n",
    "| 11 | 285 - 1022 | 1475 |\n",
    "| 13 | 504 - 1200 | 1393 |\n",
    "| 17 | 230 - 962 | 1465 |\n",
    "| 19 | 417 - 933 | 1033 |\n",
    "| 23 | 375 -915 | 1081 |\n",
    "| 29 | 257 - 845 | 1177 |\n",
    "| 31 | 368 - 831 | 927 |\n",
    "\"\"\"\n",
    "time=np.linspace(504,1200,1392)\n",
    "#time2=np.linspace(1000,1200,4000)\n",
    "fig = plt.figure(figsize=(10,10))    \n",
    "ax1 = fig.add_subplot(5,1,1)\n",
    "ax1.plot(time,total_persist,color='red',label='TP')\n",
    "ax1.set_xlabel('time')\n",
    "ax1.set_ylabel('TP', color='red')\n",
    "#ax1.set_xscale('log')\n",
    "#ax1.set_yscale('log')\n",
    "ax1.tick_params(axis='y', labelcolor='red')\n",
    "ax2 = fig.add_subplot(5,1,2)\n",
    "ax2.plot(time,TP_above[0:1392],color='blue',label='TP_aboveavg')\n",
    "ax2.set_xlabel('time')\n",
    "ax2.set_ylabel('TP_ab_avgF', color='blue')\n",
    "#ax2.set_xscale('log')\n",
    "#ax2.set_yscale('log')\n",
    "ax2.tick_params(axis='y', labelcolor='blue')\n",
    "ax3 = fig.add_subplot(5,1,3)\n",
    "ax3.plot(time,TP_below[0:1392],color='green',label='TP_belowavg')\n",
    "ax3.set_xlabel('time')\n",
    "ax3.set_ylabel('TP_bel_avgF', color='green') # instantiate a second axes that shares the same x-axis\n",
    "#ax3.set_xscale('log')\n",
    "#ax3.set_yscale('log')\n",
    "ax3.tick_params(axis='y', labelcolor='green')\n",
    "ax4 = fig.add_subplot(5,1,4)\n",
    "ax4.plot(time, abs(Intruder_Velocity_13[0:1392]),color='magenta', label='tot_force')\n",
    "ax4.set_xlabel('time')\n",
    "ax4.set_ylabel('velocity', color='magenta')  # we already handled the x-label with ax1\n",
    "ax4.tick_params(axis='y', labelcolor='magenta') #ax4.tick_params(axis='y', labelcolor='magenta')\n",
    "#ax4.set_yscale('log')  #ax5=ax4.twinx()\n",
    "ax5 = fig.add_subplot(5,1,5)\n",
    "ax5.plot(time,abs(Intruder_angF_13[0:1392]),color='black', label='black')\n",
    "ax5.set_ylabel('ang_force')\n",
    "#ax5.set_yscale('log')\n",
    "fig.tight_layout()  # otherwise the right y-label is slightly clipped\n",
    "#plt.title('Total Peristence_all vs total force')\n",
    "#plt.legend(loc='\\n'+'total force')\n",
    "#plt.savefig('G:/PD_0/' + ('total persistence for PD_0_90'), dpi=800)\n",
    "plt.savefig('../simulation_data/New_data/Results/B1/'+'TP_above_below_13_peravg_B1' )\n",
    "plt.close()\n",
    "plt.show()\n",
    "#plt.plot(TP_above)"
   ]
  },
  {
   "cell_type": "code",
   "execution_count": 50,
   "metadata": {},
   "outputs": [
    {
     "name": "stdout",
     "output_type": "stream",
     "text": [
      "1360\n",
      "33\n"
     ]
    }
   ],
   "source": [
    "TP_above_st=[]\n",
    "TP_below_st=[]\n",
    "for i in range(0,len(TP_1)):\n",
    "    if TP_1[i]>s_t_avg:\n",
    "        TP_above_st.append(TP_1[i])\n",
    "    if TP_1[i]<s_t_avg:\n",
    "        TP_below_st.append(TP_1[i])\n",
    "print(len(TP_above_st))\n",
    "print(len(TP_below_st))"
   ]
  },
  {
   "cell_type": "code",
   "execution_count": 49,
   "metadata": {},
   "outputs": [
    {
     "ename": "ValueError",
     "evalue": "x and y must have same first dimension, but have shapes (1392,) and (1360,)",
     "output_type": "error",
     "traceback": [
      "\u001b[1;31m---------------------------------------------------------------------------\u001b[0m",
      "\u001b[1;31mValueError\u001b[0m                                Traceback (most recent call last)",
      "\u001b[1;32m<ipython-input-49-edff219f0ada>\u001b[0m in \u001b[0;36m<module>\u001b[1;34m\u001b[0m\n\u001b[0;32m     23\u001b[0m \u001b[0max1\u001b[0m\u001b[1;33m.\u001b[0m\u001b[0mtick_params\u001b[0m\u001b[1;33m(\u001b[0m\u001b[0maxis\u001b[0m\u001b[1;33m=\u001b[0m\u001b[1;34m'y'\u001b[0m\u001b[1;33m,\u001b[0m \u001b[0mlabelcolor\u001b[0m\u001b[1;33m=\u001b[0m\u001b[1;34m'red'\u001b[0m\u001b[1;33m)\u001b[0m\u001b[1;33m\u001b[0m\u001b[1;33m\u001b[0m\u001b[0m\n\u001b[0;32m     24\u001b[0m \u001b[0max2\u001b[0m \u001b[1;33m=\u001b[0m \u001b[0mfig\u001b[0m\u001b[1;33m.\u001b[0m\u001b[0madd_subplot\u001b[0m\u001b[1;33m(\u001b[0m\u001b[1;36m5\u001b[0m\u001b[1;33m,\u001b[0m\u001b[1;36m1\u001b[0m\u001b[1;33m,\u001b[0m\u001b[1;36m2\u001b[0m\u001b[1;33m)\u001b[0m\u001b[1;33m\u001b[0m\u001b[1;33m\u001b[0m\u001b[0m\n\u001b[1;32m---> 25\u001b[1;33m \u001b[0max2\u001b[0m\u001b[1;33m.\u001b[0m\u001b[0mplot\u001b[0m\u001b[1;33m(\u001b[0m\u001b[0mtime\u001b[0m\u001b[1;33m,\u001b[0m\u001b[0mTP_above_st\u001b[0m\u001b[1;33m,\u001b[0m\u001b[0mcolor\u001b[0m\u001b[1;33m=\u001b[0m\u001b[1;34m'blue'\u001b[0m\u001b[1;33m,\u001b[0m\u001b[0mlabel\u001b[0m\u001b[1;33m=\u001b[0m\u001b[1;34m'TP_aboveavg'\u001b[0m\u001b[1;33m)\u001b[0m\u001b[1;33m\u001b[0m\u001b[1;33m\u001b[0m\u001b[0m\n\u001b[0m\u001b[0;32m     26\u001b[0m \u001b[0max2\u001b[0m\u001b[1;33m.\u001b[0m\u001b[0mset_xlabel\u001b[0m\u001b[1;33m(\u001b[0m\u001b[1;34m'time'\u001b[0m\u001b[1;33m)\u001b[0m\u001b[1;33m\u001b[0m\u001b[1;33m\u001b[0m\u001b[0m\n\u001b[0;32m     27\u001b[0m \u001b[0max2\u001b[0m\u001b[1;33m.\u001b[0m\u001b[0mset_ylabel\u001b[0m\u001b[1;33m(\u001b[0m\u001b[1;34m'TP_ab_avgF'\u001b[0m\u001b[1;33m,\u001b[0m \u001b[0mcolor\u001b[0m\u001b[1;33m=\u001b[0m\u001b[1;34m'blue'\u001b[0m\u001b[1;33m)\u001b[0m\u001b[1;33m\u001b[0m\u001b[1;33m\u001b[0m\u001b[0m\n",
      "\u001b[1;32m~\\Anaconda3\\lib\\site-packages\\matplotlib\\axes\\_axes.py\u001b[0m in \u001b[0;36mplot\u001b[1;34m(self, scalex, scaley, data, *args, **kwargs)\u001b[0m\n\u001b[0;32m   1664\u001b[0m         \"\"\"\n\u001b[0;32m   1665\u001b[0m         \u001b[0mkwargs\u001b[0m \u001b[1;33m=\u001b[0m \u001b[0mcbook\u001b[0m\u001b[1;33m.\u001b[0m\u001b[0mnormalize_kwargs\u001b[0m\u001b[1;33m(\u001b[0m\u001b[0mkwargs\u001b[0m\u001b[1;33m,\u001b[0m \u001b[0mmlines\u001b[0m\u001b[1;33m.\u001b[0m\u001b[0mLine2D\u001b[0m\u001b[1;33m.\u001b[0m\u001b[0m_alias_map\u001b[0m\u001b[1;33m)\u001b[0m\u001b[1;33m\u001b[0m\u001b[1;33m\u001b[0m\u001b[0m\n\u001b[1;32m-> 1666\u001b[1;33m         \u001b[0mlines\u001b[0m \u001b[1;33m=\u001b[0m \u001b[1;33m[\u001b[0m\u001b[1;33m*\u001b[0m\u001b[0mself\u001b[0m\u001b[1;33m.\u001b[0m\u001b[0m_get_lines\u001b[0m\u001b[1;33m(\u001b[0m\u001b[1;33m*\u001b[0m\u001b[0margs\u001b[0m\u001b[1;33m,\u001b[0m \u001b[0mdata\u001b[0m\u001b[1;33m=\u001b[0m\u001b[0mdata\u001b[0m\u001b[1;33m,\u001b[0m \u001b[1;33m**\u001b[0m\u001b[0mkwargs\u001b[0m\u001b[1;33m)\u001b[0m\u001b[1;33m]\u001b[0m\u001b[1;33m\u001b[0m\u001b[1;33m\u001b[0m\u001b[0m\n\u001b[0m\u001b[0;32m   1667\u001b[0m         \u001b[1;32mfor\u001b[0m \u001b[0mline\u001b[0m \u001b[1;32min\u001b[0m \u001b[0mlines\u001b[0m\u001b[1;33m:\u001b[0m\u001b[1;33m\u001b[0m\u001b[1;33m\u001b[0m\u001b[0m\n\u001b[0;32m   1668\u001b[0m             \u001b[0mself\u001b[0m\u001b[1;33m.\u001b[0m\u001b[0madd_line\u001b[0m\u001b[1;33m(\u001b[0m\u001b[0mline\u001b[0m\u001b[1;33m)\u001b[0m\u001b[1;33m\u001b[0m\u001b[1;33m\u001b[0m\u001b[0m\n",
      "\u001b[1;32m~\\Anaconda3\\lib\\site-packages\\matplotlib\\axes\\_base.py\u001b[0m in \u001b[0;36m__call__\u001b[1;34m(self, *args, **kwargs)\u001b[0m\n\u001b[0;32m    223\u001b[0m                 \u001b[0mthis\u001b[0m \u001b[1;33m+=\u001b[0m \u001b[0margs\u001b[0m\u001b[1;33m[\u001b[0m\u001b[1;36m0\u001b[0m\u001b[1;33m]\u001b[0m\u001b[1;33m,\u001b[0m\u001b[1;33m\u001b[0m\u001b[1;33m\u001b[0m\u001b[0m\n\u001b[0;32m    224\u001b[0m                 \u001b[0margs\u001b[0m \u001b[1;33m=\u001b[0m \u001b[0margs\u001b[0m\u001b[1;33m[\u001b[0m\u001b[1;36m1\u001b[0m\u001b[1;33m:\u001b[0m\u001b[1;33m]\u001b[0m\u001b[1;33m\u001b[0m\u001b[1;33m\u001b[0m\u001b[0m\n\u001b[1;32m--> 225\u001b[1;33m             \u001b[1;32myield\u001b[0m \u001b[1;32mfrom\u001b[0m \u001b[0mself\u001b[0m\u001b[1;33m.\u001b[0m\u001b[0m_plot_args\u001b[0m\u001b[1;33m(\u001b[0m\u001b[0mthis\u001b[0m\u001b[1;33m,\u001b[0m \u001b[0mkwargs\u001b[0m\u001b[1;33m)\u001b[0m\u001b[1;33m\u001b[0m\u001b[1;33m\u001b[0m\u001b[0m\n\u001b[0m\u001b[0;32m    226\u001b[0m \u001b[1;33m\u001b[0m\u001b[0m\n\u001b[0;32m    227\u001b[0m     \u001b[1;32mdef\u001b[0m \u001b[0mget_next_color\u001b[0m\u001b[1;33m(\u001b[0m\u001b[0mself\u001b[0m\u001b[1;33m)\u001b[0m\u001b[1;33m:\u001b[0m\u001b[1;33m\u001b[0m\u001b[1;33m\u001b[0m\u001b[0m\n",
      "\u001b[1;32m~\\Anaconda3\\lib\\site-packages\\matplotlib\\axes\\_base.py\u001b[0m in \u001b[0;36m_plot_args\u001b[1;34m(self, tup, kwargs)\u001b[0m\n\u001b[0;32m    389\u001b[0m             \u001b[0mx\u001b[0m\u001b[1;33m,\u001b[0m \u001b[0my\u001b[0m \u001b[1;33m=\u001b[0m \u001b[0mindex_of\u001b[0m\u001b[1;33m(\u001b[0m\u001b[0mtup\u001b[0m\u001b[1;33m[\u001b[0m\u001b[1;33m-\u001b[0m\u001b[1;36m1\u001b[0m\u001b[1;33m]\u001b[0m\u001b[1;33m)\u001b[0m\u001b[1;33m\u001b[0m\u001b[1;33m\u001b[0m\u001b[0m\n\u001b[0;32m    390\u001b[0m \u001b[1;33m\u001b[0m\u001b[0m\n\u001b[1;32m--> 391\u001b[1;33m         \u001b[0mx\u001b[0m\u001b[1;33m,\u001b[0m \u001b[0my\u001b[0m \u001b[1;33m=\u001b[0m \u001b[0mself\u001b[0m\u001b[1;33m.\u001b[0m\u001b[0m_xy_from_xy\u001b[0m\u001b[1;33m(\u001b[0m\u001b[0mx\u001b[0m\u001b[1;33m,\u001b[0m \u001b[0my\u001b[0m\u001b[1;33m)\u001b[0m\u001b[1;33m\u001b[0m\u001b[1;33m\u001b[0m\u001b[0m\n\u001b[0m\u001b[0;32m    392\u001b[0m \u001b[1;33m\u001b[0m\u001b[0m\n\u001b[0;32m    393\u001b[0m         \u001b[1;32mif\u001b[0m \u001b[0mself\u001b[0m\u001b[1;33m.\u001b[0m\u001b[0mcommand\u001b[0m \u001b[1;33m==\u001b[0m \u001b[1;34m'plot'\u001b[0m\u001b[1;33m:\u001b[0m\u001b[1;33m\u001b[0m\u001b[1;33m\u001b[0m\u001b[0m\n",
      "\u001b[1;32m~\\Anaconda3\\lib\\site-packages\\matplotlib\\axes\\_base.py\u001b[0m in \u001b[0;36m_xy_from_xy\u001b[1;34m(self, x, y)\u001b[0m\n\u001b[0;32m    268\u001b[0m         \u001b[1;32mif\u001b[0m \u001b[0mx\u001b[0m\u001b[1;33m.\u001b[0m\u001b[0mshape\u001b[0m\u001b[1;33m[\u001b[0m\u001b[1;36m0\u001b[0m\u001b[1;33m]\u001b[0m \u001b[1;33m!=\u001b[0m \u001b[0my\u001b[0m\u001b[1;33m.\u001b[0m\u001b[0mshape\u001b[0m\u001b[1;33m[\u001b[0m\u001b[1;36m0\u001b[0m\u001b[1;33m]\u001b[0m\u001b[1;33m:\u001b[0m\u001b[1;33m\u001b[0m\u001b[1;33m\u001b[0m\u001b[0m\n\u001b[0;32m    269\u001b[0m             raise ValueError(\"x and y must have same first dimension, but \"\n\u001b[1;32m--> 270\u001b[1;33m                              \"have shapes {} and {}\".format(x.shape, y.shape))\n\u001b[0m\u001b[0;32m    271\u001b[0m         \u001b[1;32mif\u001b[0m \u001b[0mx\u001b[0m\u001b[1;33m.\u001b[0m\u001b[0mndim\u001b[0m \u001b[1;33m>\u001b[0m \u001b[1;36m2\u001b[0m \u001b[1;32mor\u001b[0m \u001b[0my\u001b[0m\u001b[1;33m.\u001b[0m\u001b[0mndim\u001b[0m \u001b[1;33m>\u001b[0m \u001b[1;36m2\u001b[0m\u001b[1;33m:\u001b[0m\u001b[1;33m\u001b[0m\u001b[1;33m\u001b[0m\u001b[0m\n\u001b[0;32m    272\u001b[0m             raise ValueError(\"x and y can be no greater than 2-D, but have \"\n",
      "\u001b[1;31mValueError\u001b[0m: x and y must have same first dimension, but have shapes (1392,) and (1360,)"
     ]
    },
    {
     "data": {
      "image/png": "[encoded data removed]",
      "text/plain": [
       "<Figure size 720x720 with 2 Axes>"
      ]
     },
     "metadata": {
      "needs_background": "light"
     },
     "output_type": "display_data"
    }
   ],
   "source": [
    "## plot in subplots for space average\n",
    "\"\"\"\n",
    "| 03 | 456 - 947 | 983 |\n",
    "| 05 | 370 - 1200 | 1661 |\n",
    "| 07 | 816 - 1400 | 1169 |\n",
    "| 11 | 285 - 1022 | 1475 |\n",
    "| 13 | 504 - 1200 | 1393 |\n",
    "| 17 | 230 - 962 | 1465 |\n",
    "| 19 | 417 - 933 | 1033 |\n",
    "| 23 | 375 -915 | 1081 |\n",
    "| 29 | 257 - 845 | 1177 |\n",
    "| 31 | 368 - 831 | 927 |\n",
    "\"\"\"\n",
    "time=np.linspace(504,1200,1392)\n",
    "#time2=np.linspace(1000,1200,4000)\n",
    "fig = plt.figure(figsize=(10,10))    \n",
    "ax1 = fig.add_subplot(5,1,1)\n",
    "ax1.plot(time,total_persist,color='red',label='TP')\n",
    "ax1.set_xlabel('time')\n",
    "ax1.set_ylabel('TP', color='red')\n",
    "#ax1.set_xscale('log')\n",
    "#ax1.set_yscale('log')\n",
    "ax1.tick_params(axis='y', labelcolor='red')\n",
    "ax2 = fig.add_subplot(5,1,2)\n",
    "ax2.plot(time,TP_above_st,color='blue',label='TP_aboveavg')\n",
    "ax2.set_xlabel('time')\n",
    "ax2.set_ylabel('TP_ab_avgF', color='blue')\n",
    "#ax2.set_xscale('log')\n",
    "#ax2.set_yscale('log')\n",
    "ax2.tick_params(axis='y', labelcolor='blue')\n",
    "ax3 = fig.add_subplot(5,1,3)\n",
    "ax3.plot(time,TP_below_st,color='green',label='TP_belowavg')\n",
    "ax3.set_xlabel('time')\n",
    "ax3.set_ylabel('TP_bel_avgF', color='green') # instantiate a second axes that shares the same x-axis\n",
    "#ax3.set_xscale('log')\n",
    "#ax3.set_yscale('log')\n",
    "ax3.tick_params(axis='y', labelcolor='green')\n",
    "ax4 = fig.add_subplot(5,1,4)\n",
    "ax4.plot(time, abs(Intruder_Velocity_13[0:1392]),color='magenta', label='tot_force')\n",
    "ax4.set_xlabel('time')\n",
    "ax4.set_ylabel('velocity', color='magenta')  # we already handled the x-label with ax1\n",
    "ax4.tick_params(axis='y', labelcolor='magenta') #ax4.tick_params(axis='y', labelcolor='magenta')\n",
    "#ax4.set_yscale('log')  #ax5=ax4.twinx()\n",
    "ax5 = fig.add_subplot(5,1,5)\n",
    "ax5.plot(time,abs(Intruder_angF_13[0:1392]),color='black', label='black')\n",
    "ax5.set_ylabel('ang_force')\n",
    "#ax5.set_yscale('log')\n",
    "fig.tight_layout()  # otherwise the right y-label is slightly clipped\n",
    "#plt.title('Total Peristence_all vs total force')\n",
    "#plt.legend(loc='\\n'+'total force')\n",
    "#plt.savefig('G:/PD_0/' + ('total persistence for PD_0_90'), dpi=800)\n",
    "#plt.savefig('../simulation_data/New_data/Results/'+'TP_above_below_03_peravg' )\n",
    "#plt.close()\n",
    "plt.show()\n",
    "#plt.plot(TP_above)"
   ]
  },
  {
   "cell_type": "code",
   "execution_count": null,
   "metadata": {},
   "outputs": [],
   "source": []
  }
 ],
 "metadata": {
  "kernelspec": {
   "display_name": "Python 3",
   "language": "python",
   "name": "python3"
  },
  "language_info": {
   "codemirror_mode": {
    "name": "ipython",
    "version": 3
   },
   "file_extension": ".py",
   "mimetype": "text/x-python",
   "name": "python",
   "nbconvert_exporter": "python",
   "pygments_lexer": "ipython3",
   "version": "3.7.4"
  }
 },
 "nbformat": 4,
 "nbformat_minor": 2
}
